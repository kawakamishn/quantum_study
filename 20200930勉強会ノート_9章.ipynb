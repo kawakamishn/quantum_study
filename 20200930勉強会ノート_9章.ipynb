{
 "cells": [
  {
   "cell_type": "markdown",
   "metadata": {},
   "source": [
    "# 9.7 量子乱数発生器\n",
    "古典コンピューターの場合は擬似乱数を発生させるが、量子コンピューターは純粋なランダムビットを取り出すことができる。\n",
    "アイデアとしては、アダマールゲートを$|0\\rangle$に作用させることで、\n",
    "\\begin{equation}\n",
    "\\frac{1}{\\sqrt{2}}(|0\\rangle + |1\\rangle)\n",
    "\\end{equation}\n",
    "を得て、その後Z基底で測定する、というもの。確率1/2ずつで0または1が得られる。"
   ]
  },
  {
   "cell_type": "markdown",
   "metadata": {},
   "source": [
    "1キュービットに対する測定を10回行うコードを以下に示す。"
   ]
  },
  {
   "cell_type": "code",
   "execution_count": 1,
   "metadata": {},
   "outputs": [],
   "source": [
    "\"\"\"Program for generating random bits in Cirq.\n",
    "\"\"\"  \n",
    "#Imports\n",
    "import cirq "
   ]
  },
  {
   "cell_type": "code",
   "execution_count": 2,
   "metadata": {},
   "outputs": [
    {
     "name": "stdout",
     "output_type": "stream",
     "text": [
      "Bitstring = 1001110001\n"
     ]
    }
   ],
   "source": [
    "#Helper function for visualizing output  \n",
    "def bitstring(bits):\n",
    "    return ''.join('1' if e else '0' for e in bits)  \n",
    "\n",
    "#Get a qubit and quantum circuit\n",
    "qbit = cirq.LineQubit(0)\n",
    "circ = cirq.Circuit()\n",
    "\n",
    "#Add the Hadamard and measure operations to the circuit  \n",
    "circ.append([cirq.H(qbit), cirq.measure(qbit, key=\"z\")]) #zは単に測定の名前づけと思われる。\n",
    "\n",
    "#Simulate the circuit \n",
    "sim = cirq.Simulator() \n",
    "res = sim.run(circ, repetitions=10) \n",
    "\n",
    "#Print the outcome \n",
    "print(\"Bitstring =\", bitstring(res.measurements[\"z\"]))  #シミュレーション結果から、zと名付けた測定の結果を引っ張り出してくる。"
   ]
  },
  {
   "cell_type": "markdown",
   "metadata": {},
   "source": [
    "10キュービットに対する測定を1回行うコードを以下に示す。"
   ]
  },
  {
   "cell_type": "code",
   "execution_count": 3,
   "metadata": {},
   "outputs": [
    {
     "name": "stdout",
     "output_type": "stream",
     "text": [
      "Bitstring = 0001001011\n",
      "Integer = 75\n"
     ]
    }
   ],
   "source": [
    "\"\"\"Program for generating random numbers in Cirq.\"\"\"  \n",
    "#Number of qubits  \n",
    "n = 10\n",
    "\n",
    "#Get a qubit and quantum circuit\n",
    "qreg = [cirq.LineQubit(x) for x in range(n)]\n",
    "circ = cirq.Circuit()\n",
    "\n",
    "#Add the Hadamard and measure operations to the circuit \n",
    "for x in range(n): \n",
    "    circ.append([cirq.H(qreg[x]), cirq.measure(qreg[x])]) \n",
    "    \n",
    "#Simulate the circuit  \n",
    "sim = cirq.Simulator()  \n",
    "res = sim.run(circ, repetitions=1) \n",
    "#Print the measured bitstring \n",
    "bits = bitstring(res.measurements.values()) \n",
    "print(\"Bitstring =\", bits) \n",
    "#Print the integer corresponding to the bitstring つまり10進法で書くと\n",
    "print(\"Integer =\", int(bits, 2)) \n"
   ]
  },
  {
   "cell_type": "markdown",
   "metadata": {},
   "source": [
    "# 9.8 量子ウォーク\n",
    "量子ウォークでは、あるグラフ$G=(V,E)$上で粒子が動いている時、ある時間に頂点Vに粒子がいる確率やVまで到達する時間を考えることになる。\n",
    "もしこれらの挙動が古典的ランダムウォークと異なっているなら、例えばグラフ問題にマップできる2-SAT充足問題について新しい解き方が見つかるかもしれない、というのが一つのモチベーション。\n",
    "\n",
    "一番シンプルなランダムウォークは一次元上のランダムウォーク。その中でも非連続ウォークと連続ウォークがあり、非連続ウォークは各点から確率1/2で左か右のどちらかに移動していく、というもの。連続ウォークは粒子が各点にいる確率分布P(V)が変化していくというもの。\n",
    "\n",
    "量子ウォークではポジション系$P$の他に、コイン系$C$を用いてある時点での状態が$|0\\rangle_C \\otimes |N\\rangle_P$のように表される。あるコインの状態のもとで次の時点でのポジション状態へ遷移させるには、\n",
    "\\begin{equation}\n",
    "S := |0\\rangle \\langle0|_C \\otimes \\sum_i |i-1 \\rangle  \\langle i|_P + |1\\rangle \\langle 1 |_C \\otimes \\sum_i | i+1 \\rangle  \\langle i|_P\n",
    "\\end{equation}\n",
    "を作用させる。\n",
    "量子ウォークにおいて半々の確率でコインを投げる操作は、半々で量子的重ね合わせを実現するアダマールゲート$H_C$を作用させることに対応する。\n",
    "このとき、コインを投げてポジションを遷移させる１ステップの操作は\n",
    "\\begin{equation}\n",
    "U = S(H_C \\otimes I_P)\n",
    "\\end{equation}\n",
    "と書ける。\n",
    "\n",
    "この枠組み設定により、量子ウォークは古典ウォークとは異なる挙動を示すことがわかる。\n",
    "例えば、状態が$|0\\rangle_C \\otimes |0\\rangle_P$から始まる場合は分布は左に寄って行き、$|1\\rangle_C \\otimes |0\\rangle_P$から始まる場合は分布は右に寄っていく。均等に広げて行きたい場合は$|+\\rangle_C \\otimes |0\\rangle_P$から始める。他にも、$T$ステップ終わった後の分散が古典だと$T$に比例するのに対し、量子だと$T^2$に比例することが知られている。これは裏返せば二乗分だけ量子の方が速く伝搬するということ。\n",
    "以下のページに分かりやすい動画が掲載されている。\n",
    "http://www002.upp.so-net.ne.jp/bunchin/quantumwalk/"
   ]
  },
  {
   "cell_type": "code",
   "execution_count": 4,
   "metadata": {},
   "outputs": [],
   "source": [
    "#4vertexの完全グラフ（vertex同士が全て結合しているグラフ）においてシミュレーションを行う。\n",
    "import numpy as np\n",
    "import networkx as nx\n",
    "import matplotlib.pyplot as plt\n",
    "from scipy.linalg import expm\n",
    "import pyquil.quil as pq\n",
    "import pyquil.api as api\n",
    "from pyquil.gates import H, X, CPHASE00 "
   ]
  },
  {
   "cell_type": "code",
   "execution_count": 5,
   "metadata": {},
   "outputs": [
    {
     "data": {
      "image/png": "[encoded data removed]",
      "text/plain": [
       "<Figure size 432x288 with 1 Axes>"
      ]
     },
     "metadata": {},
     "output_type": "display_data"
    }
   ],
   "source": [
    "#Create a graph  \n",
    "G = nx.complete_graph(4)\n",
    "nx.draw_networkx(G) "
   ]
  },
  {
   "cell_type": "markdown",
   "metadata": {},
   "source": [
    "遷移行列をAとすると、完全グラフについては、Aの固有値は一つだけN-1で残りは全て-1になる（Nはノード数）"
   ]
  },
  {
   "cell_type": "code",
   "execution_count": 6,
   "metadata": {},
   "outputs": [
    {
     "name": "stdout",
     "output_type": "stream",
     "text": [
      "A= [[0 1 1 1]\n",
      " [1 0 1 1]\n",
      " [1 1 0 1]\n",
      " [1 1 1 0]]\n",
      "Eigenvalues = [-1. -1. -1.  3.]\n",
      "Eigenvectors = [[ 0.         -0.8660254  -0.         -0.5       ]\n",
      " [-0.29549093  0.28867513 -0.76115161 -0.5       ]\n",
      " [-0.51143117  0.28867513  0.63647846 -0.5       ]\n",
      " [ 0.8069221   0.28867513  0.12467315 -0.5       ]]\n"
     ]
    }
   ],
   "source": [
    "#Diagonalize the adjacency matrix \n",
    "A = nx.adjacency_matrix(G).toarray()\n",
    "eigvals, eigvecs = np.linalg.eigh(A) \n",
    "#eigvecs = np.linalg.eig(A)\n",
    "print(\"A=\", A)\n",
    "print(\"Eigenvalues =\", eigvals) \n",
    "print(\"Eigenvectors =\", eigvecs)"
   ]
  },
  {
   "cell_type": "code",
   "execution_count": 7,
   "metadata": {},
   "outputs": [
    {
     "data": {
      "text/plain": [
       "array([[1., 0., 0., 0.],\n",
       "       [0., 1., 0., 0.],\n",
       "       [0., 0., 1., 0.],\n",
       "       [0., 0., 0., 1.]])"
      ]
     },
     "execution_count": 7,
     "metadata": {},
     "output_type": "execute_result"
    }
   ],
   "source": [
    "np.eye(4)"
   ]
  },
  {
   "cell_type": "markdown",
   "metadata": {},
   "source": [
    "ハミルトニアンは、固有値０を増やして計算を簡単にするためH=A+Iとする。"
   ]
  },
  {
   "cell_type": "code",
   "execution_count": 8,
   "metadata": {},
   "outputs": [],
   "source": [
    "ham = A + np.eye(4)"
   ]
  },
  {
   "cell_type": "markdown",
   "metadata": {},
   "source": [
    "完全グラフの遷移行列はアダマールで対角化できることが既知だとすると、$Q = H \\otimes H$、$\\Lambda$を対角行列として、\n",
    "\\begin{equation}\n",
    "H = Q \\Lambda Q^{\\dagger}\n",
    "\\end{equation}\n",
    "これを以下で確認する。"
   ]
  },
  {
   "cell_type": "code",
   "execution_count": 9,
   "metadata": {},
   "outputs": [
    {
     "name": "stdout",
     "output_type": "stream",
     "text": [
      "[[ 4.00000000e+00 -4.93038066e-32 -4.93038066e-32  4.93038066e-32]\n",
      " [ 0.00000000e+00  0.00000000e+00  0.00000000e+00  0.00000000e+00]\n",
      " [ 0.00000000e+00  0.00000000e+00  0.00000000e+00  0.00000000e+00]\n",
      " [ 0.00000000e+00  0.00000000e+00  0.00000000e+00  0.00000000e+00]]\n"
     ]
    }
   ],
   "source": [
    "#Hadamard gate  \n",
    "hgate = np.sqrt(1/2) * np.array([[1, 1], [1, -1]])  \n",
    "#Form the matrix Q = H \\otimes H to diagonalize the Hamiltonian  \n",
    "Q = np.kron(hgate, hgate)  \n",
    "#Print out the Q^\\dagger H Q to verify it’s diagonal  \n",
    "diag = Q.conj().T.dot(ham).dot(Q) \n",
    "print(diag) "
   ]
  },
  {
   "cell_type": "markdown",
   "metadata": {},
   "source": [
    "右上の３つは実質０。H=A+Iとして0以外の固有値が一つだけになっているはずなので結果は整合している。\n",
    "よって、時間発展オペレーターは以下のように書ける。\n",
    "\\begin{equation}\n",
    "Q^{\\dagger} e ^ {-iHt} Q = \n",
    "\\left(\n",
    "    \\begin{array}{cccc}\n",
    "      e ^ {-i4t} & 0 & 0 & 0 \\\\\n",
    "      0 & 1 & 0 & 0 \\\\\n",
    "      0 & 0 & 1 & 0 \\\\\n",
    "      0 & 0 & 0 & 1\n",
    "    \\end{array}\n",
    "  \\right)\n",
    "\\end{equation}"
   ]
  },
  {
   "cell_type": "markdown",
   "metadata": {},
   "source": [
    "これは二つのキュービットが両方$|0 \\rangle$であった時にのみ位相が$\\phi$だけシフトする$CZ_{00}(\\phi)$（pyQuil内で定義されている）を用いて$CZ_{00}(-4t)$と表される。\n",
    "これを用いて、以下に連続時間量子ウォークの時間発展についてpyQuil量子プログラムを記述する。"
   ]
  },
  {
   "cell_type": "code",
   "execution_count": 10,
   "metadata": {},
   "outputs": [],
   "source": [
    "#Function for the continuous time quantum walk circuit on a  complete graph  \n",
    "def k_4_ctqw(t): \n",
    "    \"\"\"Returns a program implementing a continuous time quantum  walk.\"\"\"  \n",
    "    prog = pq.Program()  \n",
    "    \n",
    "    #Change to diagonal basis  \n",
    "    prog.inst(H(0)) \n",
    "    prog.inst(H(1))  \n",
    "    \n",
    "    #Time evolve  \n",
    "    prog.inst(CPHASE00(-4*t, 0, 1))  \n",
    "    \n",
    "    #Change back to computational basis  \n",
    "    prog.inst(H(0)) \n",
    "    prog.inst(H(1)) \n",
    "    \n",
    "    return prog"
   ]
  },
  {
   "cell_type": "markdown",
   "metadata": {},
   "source": [
    "次に比較用に古典の連続ランダムウォークを考える。\n",
    "離散ランダムウォークの場合は、あるtからt+1までの間に確率分布は\n",
    "\n",
    "\\begin{equation}\n",
    "\\vec{p}_{t+1} -  \\vec{p}_t= \n",
    "\\left(\n",
    "    \\begin{array}{cccc}\n",
    "      -1 & 1/3 & 1/3 & 1/3 \\\\\n",
    "      1/3 & -1 & 1/3 & 1/3 \\\\\n",
    "      1/3 & 1/3 & -1 & 1/3 \\\\\n",
    "      1/3 & 1/3 & 1/3 & -1\n",
    "    \\end{array}\n",
    "  \\right)\n",
    "  \\vec{p}_{t} c\n",
    "\\end{equation}\n",
    "と書ける。ただしcは任意の定数。行列部分を$(M-I)$と置いて\n",
    "\\begin{equation}\n",
    "\\vec{p}_{t+1} -  \\vec{p}_t= \n",
    "(M-I)\n",
    "  \\vec{p}_{t} c\n",
    "\\end{equation}\n",
    "1ステップ間隔が微小とすると\n",
    "\\begin{equation}\n",
    "\\Delta \\vec{p}_t = (M-I)\\vec{p}_t c\n",
    "\\end{equation}\n",
    "微分方程式\n",
    "\\begin{equation}\n",
    "\\frac{d\\vec{p}_t}{dt} = (M-I)\\vec{p}_t c\n",
    "\\end{equation}\n",
    "を解いて\n",
    "\\begin{equation}\n",
    "\\vec{p}(t) = e^{(M-I)t}\\vec{p}(0)\n",
    "\\end{equation}"
   ]
  },
  {
   "cell_type": "code",
   "execution_count": 11,
   "metadata": {},
   "outputs": [
    {
     "name": "stdout",
     "output_type": "stream",
     "text": [
      "[[0.         0.33333333 0.33333333 0.33333333]\n",
      " [0.33333333 0.         0.33333333 0.33333333]\n",
      " [0.33333333 0.33333333 0.         0.33333333]\n",
      " [0.33333333 0.33333333 0.33333333 0.        ]]\n"
     ]
    }
   ],
   "source": [
    "M = A/ np.sum(A, axis = 0)\n",
    "print(M)"
   ]
  },
  {
   "cell_type": "markdown",
   "metadata": {},
   "source": [
    "以下で計算用の時間発展の終わりとその刻み数を定める。"
   ]
  },
  {
   "cell_type": "code",
   "execution_count": 12,
   "metadata": {},
   "outputs": [],
   "source": [
    "#Set up time to simulate for\n",
    "tmax = 4\n",
    "steps = 40\n",
    "time = np.linspace(0, tmax, steps)  \n",
    "#Arrays to hold quantum probabilities and classical probabilities  at each time  \n",
    "quantum_probs = np.zeros((steps, 4))#tmaxから4に変えた。ここは2qbit状態の次元（つまり確率係数の数）がくるはずで、tmaxがくるのはおかしい。\n",
    "classical_probs = np.zeros((steps, 4)) "
   ]
  },
  {
   "cell_type": "markdown",
   "metadata": {},
   "source": [
    "初期状態をノード0としてシミュレーションを行う。量子シミュレータの初期状態は$|0 \\rangle |0 \\rangle$（デフォルト設定）、古典シミュレータの場合はclassical_evの1列目を取る事が初期状態[1,0,0,0]の確率分布にclassical_evを作用させることに対応している。"
   ]
  },
  {
   "cell_type": "code",
   "execution_count": 14,
   "metadata": {},
   "outputs": [],
   "source": [
    "#ターミナル上でqvm -Sで起動させてから\n",
    "from pyquil.api import QVMConnection\n",
    "qvm = QVMConnection()\n",
    "\n",
    "#Do the classical and quantum continuous-time walks  \n",
    "for i, t in enumerate(time):  \n",
    "    #Get a quantum program  \n",
    "    prog = k_4_ctqw(t)\n",
    "    #Simulate the circuit and store the probabilities  \n",
    "    wvf = qvm.wavefunction(prog)\n",
    "    vec = wvf.amplitudes\n",
    "    quantum_probs[i] = np.abs(vec)**2\n",
    "    #Do the classical continuous time walk  \n",
    "    classical_ev = expm((M-np.eye(4))*t)\n",
    "    classical_probs[i] = classical_ev[:, 0] "
   ]
  },
  {
   "cell_type": "markdown",
   "metadata": {},
   "source": [
    "以下に結果を図示する。"
   ]
  },
  {
   "cell_type": "code",
   "execution_count": 15,
   "metadata": {},
   "outputs": [
    {
     "data": {
      "text/plain": [
       "[<matplotlib.lines.Line2D at 0x120b9f090>]"
      ]
     },
     "execution_count": 15,
     "metadata": {},
     "output_type": "execute_result"
    },
    {
     "data": {
      "image/png": "[encoded data removed]",
      "text/plain": [
       "<Figure size 432x288 with 2 Axes>"
      ]
     },
     "metadata": {
      "needs_background": "light"
     },
     "output_type": "display_data"
    }
   ],
   "source": [
    "_, (ax1, ax2) = plt.subplots(2, sharex=True, sharey=True)  \n",
    "ax1.set_title(\"Quantum evolution\")  \n",
    "ax1.set_ylabel(\"Probability\") \n",
    "\n",
    "ax1.plot(time, quantum_probs[:, 0], label='Initial node')  \n",
    "ax1.plot(time, quantum_probs[:, 1], label='Remaining nodes')  \n",
    "ax1.legend(loc='center left', bbox_to_anchor=(1, 0.5))  \n",
    "ax2.set_title(\"Classical evolution\")  \n",
    "ax2.set_xlabel('t')  \n",
    "ax2.set_ylabel(\"Probability\")  \n",
    "ax2.plot(time, classical_probs[:, 0], label='Initial node')  \n",
    "ax2.plot(time, classical_probs[:, 1], label='Remaining nodes') "
   ]
  },
  {
   "cell_type": "markdown",
   "metadata": {},
   "source": [
    "青が0ノード、黄がそれ以外のノードを表す。\n",
    "量子は振動し、古典は0.25に収束する。"
   ]
  }
 ],
 "metadata": {
  "kernelspec": {
   "display_name": "Python 3",
   "language": "python",
   "name": "python3"
  },
  "language_info": {
   "codemirror_mode": {
    "name": "ipython",
    "version": 3
   },
   "file_extension": ".py",
   "mimetype": "text/x-python",
   "name": "python",
   "nbconvert_exporter": "python",
   "pygments_lexer": "ipython3",
   "version": "3.7.4"
  }
 },
 "nbformat": 4,
 "nbformat_minor": 2
}
